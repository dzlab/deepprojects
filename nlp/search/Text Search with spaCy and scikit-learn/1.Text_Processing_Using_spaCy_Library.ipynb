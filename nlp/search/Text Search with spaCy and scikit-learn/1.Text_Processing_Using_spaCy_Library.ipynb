{
  "nbformat": 4,
  "nbformat_minor": 0,
  "metadata": {
    "colab": {
      "name": "Text Processing Using spaCy Library.ipynb",
      "provenance": [],
      "collapsed_sections": []
    },
    "kernelspec": {
      "name": "python3",
      "display_name": "Python 3"
    },
    "language_info": {
      "name": "python"
    }
  },
  "cells": [
    {
      "cell_type": "code",
      "metadata": {
        "colab": {
          "base_uri": "https://localhost:8080/"
        },
        "id": "b_Yah1uE6Ya3",
        "outputId": "d7743d9b-4fc9-4c15-f799-c9b9a6783277"
      },
      "source": [
        "!curl -O https://lp-prod-resources.s3.amazonaws.com/492/57214/2021-05-03-17-25-19/data.json"
      ],
      "execution_count": 2,
      "outputs": [
        {
          "output_type": "stream",
          "text": [
            "  % Total    % Received % Xferd  Average Speed   Time    Time     Time  Current\n",
            "                                 Dload  Upload   Total   Spent    Left  Speed\n",
            "100 43846  100 43846    0     0  73076      0 --:--:-- --:--:-- --:--:-- 72955\n"
          ],
          "name": "stdout"
        }
      ]
    },
    {
      "cell_type": "code",
      "metadata": {
        "id": "5DXzf5Q56g6I"
      },
      "source": [
        "import json"
      ],
      "execution_count": 3,
      "outputs": []
    },
    {
      "cell_type": "code",
      "metadata": {
        "id": "h-rvU-Nw6A11"
      },
      "source": [
        "import spacy\n",
        "import en_core_web_sm\n",
        "\n",
        "nlp = en_core_web_sm.load()"
      ],
      "execution_count": 1,
      "outputs": []
    },
    {
      "cell_type": "code",
      "metadata": {
        "id": "Jy9Dscil75uT"
      },
      "source": [
        "def tokenize(text):\n",
        "    doc = nlp(text)\n",
        "    tokens = [token.text for token in doc]\n",
        "    return tokens"
      ],
      "execution_count": 13,
      "outputs": []
    },
    {
      "cell_type": "code",
      "metadata": {
        "colab": {
          "base_uri": "https://localhost:8080/"
        },
        "id": "rZ1WeR3H6O00",
        "outputId": "d256c2ec-69a2-46ab-a941-63fc63d0c714"
      },
      "source": [
        "f = open('data.json',)\n",
        "data = json.load(f)\n",
        "for obj in data:\n",
        "    text = obj['text']\n",
        "    tokens = tokenize(text)\n",
        "    obj['tokenized_text'] = tokens"
      ],
      "execution_count": 15,
      "outputs": [
        {
          "output_type": "stream",
          "text": [
            "{'title': 'Pandemic', 'text': 'A pandemic (from Greek πᾶν, pan, \"all\" and δῆμος, demos, \"people\") is an epidemic of an infectious disease that has spread across a large region, for instance multiple continents or worldwide, affecting a substantial number of people. A widespread endemic disease with a stable number of infected people is not a pandemic. Widespread endemic diseases with a stable number of infected people such as recurrences of seasonal influenza are generally excluded as they occur simultaneously in large regions of the globe rather than being spread worldwide.\\nThroughout human history, there have been a number of pandemics of diseases such as smallpox and tuberculosis. The most fatal pandemic in recorded history was the Black Death (also known as The Plague), which killed an estimated 75–200 million people in the 14th century. The term was not used yet but was for later pandemics including the 1918 influenza pandemic (Spanish flu). Current pandemics include COVID-19 (SARS-CoV-2) and HIV/AIDS.', 'url': 'https://en.wikipedia.org/wiki/Pandemic', 'tokenized_text': ['A', 'pandemic', '(', 'from', 'Greek', 'πᾶν', ',', 'pan', ',', '\"', 'all', '\"', 'and', 'δῆμος', ',', 'demos', ',', '\"', 'people', '\"', ')', 'is', 'an', 'epidemic', 'of', 'an', 'infectious', 'disease', 'that', 'has', 'spread', 'across', 'a', 'large', 'region', ',', 'for', 'instance', 'multiple', 'continents', 'or', 'worldwide', ',', 'affecting', 'a', 'substantial', 'number', 'of', 'people', '.', 'A', 'widespread', 'endemic', 'disease', 'with', 'a', 'stable', 'number', 'of', 'infected', 'people', 'is', 'not', 'a', 'pandemic', '.', 'Widespread', 'endemic', 'diseases', 'with', 'a', 'stable', 'number', 'of', 'infected', 'people', 'such', 'as', 'recurrences', 'of', 'seasonal', 'influenza', 'are', 'generally', 'excluded', 'as', 'they', 'occur', 'simultaneously', 'in', 'large', 'regions', 'of', 'the', 'globe', 'rather', 'than', 'being', 'spread', 'worldwide', '.', '\\n', 'Throughout', 'human', 'history', ',', 'there', 'have', 'been', 'a', 'number', 'of', 'pandemics', 'of', 'diseases', 'such', 'as', 'smallpox', 'and', 'tuberculosis', '.', 'The', 'most', 'fatal', 'pandemic', 'in', 'recorded', 'history', 'was', 'the', 'Black', 'Death', '(', 'also', 'known', 'as', 'The', 'Plague', ')', ',', 'which', 'killed', 'an', 'estimated', '75–200', 'million', 'people', 'in', 'the', '14th', 'century', '.', 'The', 'term', 'was', 'not', 'used', 'yet', 'but', 'was', 'for', 'later', 'pandemics', 'including', 'the', '1918', 'influenza', 'pandemic', '(', 'Spanish', 'flu', ')', '.', 'Current', 'pandemics', 'include', 'COVID-19', '(', 'SARS', '-', 'CoV-2', ')', 'and', 'HIV', '/', 'AIDS', '.']}\n"
          ],
          "name": "stdout"
        }
      ]
    },
    {
      "cell_type": "code",
      "metadata": {
        "id": "JCrOvieK6jTm"
      },
      "source": [
        "json_object = json.dumps(data, indent = 4)\n",
        "with open(\"output.json\", \"w\") as outfile:\n",
        "    outfile.write(json_object)"
      ],
      "execution_count": 21,
      "outputs": []
    },
    {
      "cell_type": "code",
      "metadata": {
        "id": "v0CCgPFG8yZL"
      },
      "source": [
        ""
      ],
      "execution_count": null,
      "outputs": []
    }
  ]
}
